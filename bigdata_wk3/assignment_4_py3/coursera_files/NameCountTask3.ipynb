{
 "cells": [
  {
   "cell_type": "code",
   "execution_count": 1,
   "metadata": {},
   "outputs": [
    {
     "name": "stdout",
     "output_type": "stream",
     "text": [
      "Overwriting mapper1.py\n"
     ]
    }
   ],
   "source": [
    "%%writefile mapper1.py\n",
    "#!/usr/bin/env python3\n",
    "\n",
    "import sys\n",
    "import re\n",
    "\n",
    "# print('reporter:counter:Personal Counters,Mapper started,' + str(1), file=sys.stderr)\n",
    "\n",
    "for line in sys.stdin:\n",
    "    # print('reporter:counter:Personal Counters,Lines in,' + str(1), file=sys.stderr)\n",
    "\n",
    "    article_id, text = line.strip().split('\\t', 1)\n",
    "#     text = re.sub('[^\\w\\s]', ' ', text)\n",
    "\n",
    "    try:\n",
    "        words = re.split('\\W*\\s+\\W*', text)\n",
    "    except:\n",
    "        continue\n",
    "\n",
    "    for word in words:\n",
    "        # print('reporter:counter:Personal Counters,Words in,' + str(1), file=sys.stderr)\n",
    "        capitalised = None\n",
    "        try:\n",
    "            if not word[0].islower() and word[1:].islower():\n",
    "                capitalised = 1\n",
    "            else:\n",
    "                capitalised = 0\n",
    "        except:\n",
    "            continue\n",
    "\n",
    "        if not word[0].isdigit() and capitalised is not None:\n",
    "            # print('reporter:counter:Personal Counters,Total words,' + str(1), file=sys.stderr)\n",
    "            # print('reporter:counter:Personal Counters,Capitalized words,' + str(capitalised), file=sys.stderr)\n",
    "            print(word.lower() + '\\t' + str(1) + '\\t' + str(capitalised))\n"
   ]
  },
  {
   "cell_type": "code",
   "execution_count": 2,
   "metadata": {},
   "outputs": [
    {
     "name": "stdout",
     "output_type": "stream",
     "text": [
      "Overwriting combiner1.py\n"
     ]
    }
   ],
   "source": [
    "%%writefile combiner1.py\n",
    "#!/usr/bin/env python3\n",
    "\n",
    "import sys\n",
    "\n",
    "current_key = None\n",
    "word_sum = 0\n",
    "capitalized_sum = 0\n",
    "\n",
    "for line in sys.stdin:\n",
    "    # print('reporter:counter:Personal Counters,Combiner in,' + str(1), file=sys.stderr)\n",
    "    try:\n",
    "        key, count, capitalized_count = line.strip().split('\\t', 2)\n",
    "        count = int(count)\n",
    "        capitalized_count = int(capitalized_count)\n",
    "    # print('capitalized count: ', str(capitalized_count))\n",
    "    except ValueError as e:\n",
    "        continue\n",
    "\n",
    "    if current_key != key:\n",
    "        if current_key:\n",
    "            print(str(current_key) + '\\t' + str(word_sum) + '\\t' + str(capitalized_sum))\n",
    "            # print('reporter:counter:Personal Counters,Combiner out,' + str(1), file=sys.stderr)\n",
    "\n",
    "        word_sum = count\n",
    "        capitalized_sum = capitalized_count\n",
    "        current_key = key\n",
    "    else:\n",
    "        word_sum += count\n",
    "        capitalized_sum += capitalized_count\n",
    "\n",
    "if current_key:\n",
    "    print(str(current_key) + '\\t' + str(word_sum) + '\\t' + str(capitalized_sum))\n",
    "    # print('reporter:counter:Personal Counters,Combiner out,' + str(1), file=sys.stderr)\n"
   ]
  },
  {
   "cell_type": "code",
   "execution_count": 3,
   "metadata": {},
   "outputs": [
    {
     "name": "stdout",
     "output_type": "stream",
     "text": [
      "Overwriting reducer1.py\n"
     ]
    }
   ],
   "source": [
    "%%writefile reducer1.py\n",
    "#!/usr/bin/env python3\n",
    "\n",
    "import sys\n",
    "\n",
    "current_key = None\n",
    "word_sum = 0\n",
    "capitalized_sum = 0\n",
    "\n",
    "for line in sys.stdin:\n",
    "    try:\n",
    "        key, count, capitalized_count = line.strip().split('\\t', 2)\n",
    "        count = int(count)\n",
    "        capitalized_count = int(capitalized_count)\n",
    "\n",
    "    except ValueError as e:\n",
    "        continue\n",
    "\n",
    "    if current_key != key:\n",
    "        if current_key:\n",
    "            print(str(current_key) + '\\t' + str(word_sum) + '\\t' + str(capitalized_sum))\n",
    "            # print('reporter:counter:Personal Counters,Reducer out,' + str(1), file=sys.stderr)\n",
    "        \n",
    "        word_sum = count\n",
    "        capitalized_sum = capitalized_count\n",
    "        current_key = key\n",
    "    else:\n",
    "        word_sum += count\n",
    "        capitalized_sum += capitalized_count\n",
    "\n",
    "if current_key:\n",
    "    print(str(current_key) + '\\t' + str(word_sum) + '\\t' + str(capitalized_sum))\n",
    "    # print('reporter:counter:Personal Counters,Reducer out,' + str(1), file=sys.stderr)\n",
    "\n"
   ]
  },
  {
   "cell_type": "code",
   "execution_count": 4,
   "metadata": {},
   "outputs": [
    {
     "name": "stdout",
     "output_type": "stream",
     "text": [
      "Overwriting mapper2.py\n"
     ]
    }
   ],
   "source": [
    "%%writefile mapper2.py\n",
    "#!/usr/bin/env python3\n",
    "\n",
    "import sys\n",
    "\n",
    "current_key = None\n",
    "word_sum = 0\n",
    "capitalized_sum = 0\n",
    "\n",
    "for line in sys.stdin:\n",
    "    try:\n",
    "        key, count, capitalized_count = line.strip().split('\\t', 2)\n",
    "        count = int(count)\n",
    "        capitalized_count = int(capitalized_count)\n",
    "\n",
    "    except ValueError as e:\n",
    "        continue\n",
    "\n",
    "    if current_key != key:\n",
    "        if current_key:\n",
    "            print(str(word_sum) + '\\t' + str(capitalized_sum) + '\\t' + str(current_key))\n",
    "            # print('reporter:counter:Personal Counters,Mappertwo out,' + str(1), file=sys.stderr)\n",
    "        \n",
    "        word_sum = count\n",
    "        capitalized_sum = capitalized_count\n",
    "        current_key = key\n",
    "    else:\n",
    "        word_sum += count\n",
    "        capitalized_sum += capitalized_count\n",
    "\n",
    "if current_key:\n",
    "    print(str(word_sum) + '\\t' + str(capitalized_sum) + '\\t' + str(current_key))\n",
    "    # print('reporter:counter:Personal Counters,Mappertwo out,' + str(1), file=sys.stderr)\n"
   ]
  },
  {
   "cell_type": "code",
   "execution_count": 5,
   "metadata": {},
   "outputs": [
    {
     "name": "stdout",
     "output_type": "stream",
     "text": [
      "Overwriting reducer2.py\n"
     ]
    }
   ],
   "source": [
    "%%writefile reducer2.py\n",
    "# #!/usr/bin/env python3\n",
    "\n",
    "import sys\n",
    "\n",
    "total_count = 0\n",
    "total_caps = 0\n",
    "current_word = None\n",
    "\n",
    "for line in sys.stdin:\n",
    "\n",
    "    count, caps_count, key = line.strip().split('\\t', 2)\n",
    "    count = float(count)\n",
    "    caps_count = float(caps_count)\n",
    "\n",
    "    if key == current_word:\n",
    "        total_caps += caps_count\n",
    "        total_count += count\n",
    "    else:\n",
    "        if current_word is None:\n",
    "            current_word = key\n",
    "            total_caps = caps_count\n",
    "            total_count = count\n",
    "\n",
    "        else:\n",
    "            # print(f'{current_word} total caps: {total_caps}, total count: {total_count}')\n",
    "            caps_ratio = float(total_caps) / float(total_count)\n",
    "            # print(f'{current_word} caps ratio:{caps_ratio}')\n",
    "            if caps_ratio > 0.995:\n",
    "                print(str(current_word) + '\\t' + str(int(total_caps)))\n",
    "\n",
    "            total_count = count\n",
    "            total_caps = caps_count\n",
    "            current_word = key\n",
    "\n",
    "caps_ratio = float(total_caps) / float(total_count)\n",
    "if caps_ratio > 0.995:\n",
    "    print(str(current_word) + '\\t' + str(int(total_caps)))"
   ]
  },
  {
   "cell_type": "code",
   "execution_count": 6,
   "metadata": {},
   "outputs": [
    {
     "name": "stdout",
     "output_type": "stream",
     "text": [
      "french\t5741\n"
     ]
    },
    {
     "name": "stderr",
     "output_type": "stream",
     "text": [
      "cat: Unable to write to output stream.\n"
     ]
    }
   ],
   "source": [
    "%%bash\n",
    "\n",
    "OUT_DIR=\"assignment3_\"$(date +\"%s%6N\")\n",
    "OUT_DIR2=\"assignment3_b_\"$(date +\"%s%6N\")\n",
    "LOGS=\"stderr_logs.txt\"\n",
    "LOGS2=\"stderr_logs2.txt\"\n",
    "NUM_REDUCERS=4\n",
    "REDUCER_OUTPUT=\"reducer_output.txt\"\n",
    "\n",
    "# Code for your first job\n",
    "yarn jar /opt/cloudera/parcels/CDH/lib/hadoop-mapreduce/hadoop-streaming.jar \\\n",
    "    -files mapper1.py,reducer1.py,combiner1.py \\\n",
    "    -mapper 'python3 mapper1.py' \\\n",
    "    -combiner 'python3 combiner1.py' \\\n",
    "    -reducer 'python3 reducer1.py' \\\n",
    "    -numReduceTasks ${NUM_REDUCERS} \\\n",
    "    -input /data/wiki/en_articles_part \\\n",
    "    -output ${OUT_DIR} > /dev/null 2> ${LOGS}\n",
    "\n",
    "# Code for your second job\n",
    "yarn jar /opt/cloudera/parcels/CDH/lib/hadoop-mapreduce/hadoop-streaming.jar \\\n",
    "    -D mapreduce.job.output.key.comparator.class=org.apache.hadoop.mapreduce.lib.partition.KeyFieldBasedComparator \\\n",
    "    -D mapreduce.partition.keycomparator.options=\"-k1,3nr\" \\\n",
    "    -files mapper2.py,reducer2.py \\\n",
    "    -mapper 'python3 mapper2.py' \\\n",
    "    -reducer 'python3 reducer2.py' \\\n",
    "    -numReduceTasks 1 \\\n",
    "    -input ${OUT_DIR} \\\n",
    "    -output ${OUT_DIR2} > /dev/null 2> ${LOGS2}\n",
    "\n",
    "# Code for obtaining the results\n",
    "hdfs dfs -cat ${OUT_DIR2}/part-00000 | sed -n \"5p;8q\"\n",
    "# hdfs dfs -cat ${OUT_DIR2}/part-00000 > ${REDUCER_OUTPUT}\n",
    "\n",
    "hdfs dfs -rm -r -skipTrash ${OUT_DIR}* > /dev/null\n",
    "hdfs dfs -rm -r -skipTrash ${OUT_DIR2}* > /dev/null"
   ]
  }
 ],
 "metadata": {
  "kernelspec": {
   "display_name": "Python 2",
   "language": "python",
   "name": "python2"
  },
  "language_info": {
   "codemirror_mode": {
    "name": "ipython",
    "version": 2
   },
   "file_extension": ".py",
   "mimetype": "text/x-python",
   "name": "python",
   "nbconvert_exporter": "python",
   "pygments_lexer": "ipython2",
   "version": "2.7.12"
  }
 },
 "nbformat": 4,
 "nbformat_minor": 2
}
