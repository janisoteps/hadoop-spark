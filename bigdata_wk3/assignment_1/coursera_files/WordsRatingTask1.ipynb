{
 "cells": [
  {
   "cell_type": "markdown",
   "metadata": {
    "colab_type": "text",
    "id": "Ebk-YqgqEOw1"
   },
   "source": [
    "# Hadoop Streaming assignment 1: Words Rating"
   ]
  },
  {
   "cell_type": "markdown",
   "metadata": {
    "colab_type": "text",
    "id": "XDLjl7hGEOw2"
   },
   "source": [
    "The purpose of this task is to create your own WordCount program for Wikipedia dump processing and learn basic concepts of the MapReduce.\n",
    "\n",
    "In this task you have to find the 7th word by popularity and its quantity in the reverse order (most popular first) in Wikipedia data (`/data/wiki/en_articles_part`).\n",
    "\n",
    "There are several points for this task:\n",
    "\n",
    "1) As an output, you have to get the 7th word and its quantity separated by a tab character.\n",
    "\n",
    "2) You must use the second job to obtain a totally ordered result.\n",
    "\n",
    "3) Do not forget to redirect all trash and output to /dev/null.\n",
    "\n",
    "Here you can find the draft of the task main steps. You can use other methods for solution obtaining."
   ]
  },
  {
   "cell_type": "markdown",
   "metadata": {
    "colab_type": "text",
    "id": "lIUikVIDEOw2"
   },
   "source": [
    "## Step 1. Create mapper and reducer.\n",
    "\n",
    "<b>Hint:</b>  Demo task contains almost all the necessary pieces to complete this assignment. You may use the demo to implement the first MapReduce Job."
   ]
  },
  {
   "cell_type": "code",
   "execution_count": 1,
   "metadata": {
    "colab": {
     "autoexec": {
      "startup": false,
      "wait_interval": 0.0
     }
    },
    "colab_type": "code",
    "id": "A7T5mxDwEOw4"
   },
   "outputs": [
    {
     "name": "stdout",
     "output_type": "stream",
     "text": [
      "Overwriting mapper1.py\n"
     ]
    }
   ],
   "source": [
    "%%writefile mapper1.py\n",
    "\n",
    "import sys\n",
    "import re\n",
    "\n",
    "reload(sys)\n",
    "sys.setdefaultencoding('utf-8') # required to convert to unicode\n",
    "\n",
    "for line in sys.stdin:\n",
    "    try:\n",
    "        article_id, text = unicode(line.strip()).split('\\t', 1)\n",
    "        text = re.sub(r'[^\\w\\s]', '', text)\n",
    "    except ValueError as e:\n",
    "        continue\n",
    "    words = re.split(\"\\W*\\s+\\W*\", text, flags=re.UNICODE)\n",
    "    for word in words:\n",
    "        print >> sys.stderr, \"reporter:counter:Wiki stats,Total words,%d\" % 1\n",
    "        print \"%s\\t%d\" % (word.lower(), 1)"
   ]
  },
  {
   "cell_type": "code",
   "execution_count": 2,
   "metadata": {
    "colab": {
     "autoexec": {
      "startup": false,
      "wait_interval": 0.0
     }
    },
    "colab_type": "code",
    "id": "oE8KFKqpEOw5"
   },
   "outputs": [
    {
     "name": "stdout",
     "output_type": "stream",
     "text": [
      "Overwriting reducer1.py\n"
     ]
    }
   ],
   "source": [
    "%%writefile reducer1.py\n",
    "\n",
    "import sys\n",
    "\n",
    "current_key = None\n",
    "word_sum = 0\n",
    "\n",
    "for line in sys.stdin:\n",
    "    try:\n",
    "        key, count = line.strip().split('\\t', 1)\n",
    "        count = int(count)\n",
    "    except ValueError as e:\n",
    "        continue\n",
    "    if current_key != key:\n",
    "        if current_key:\n",
    "            print \"%s\\t%d\" % (current_key, word_sum)\n",
    "        word_sum = 0\n",
    "        current_key = key\n",
    "    word_sum += count\n",
    "\n",
    "if current_key:\n",
    "    print \"%s\\t%d\" % (current_key, word_sum)"
   ]
  },
  {
   "cell_type": "code",
   "execution_count": 3,
   "metadata": {
    "colab": {
     "autoexec": {
      "startup": false,
      "wait_interval": 0.0
     }
    },
    "colab_type": "code",
    "id": "LJtc3_u0uXSz"
   },
   "outputs": [
    {
     "name": "stdout",
     "output_type": "stream",
     "text": [
      "Overwriting combiner1.py\n"
     ]
    }
   ],
   "source": [
    "%%writefile combiner1.py\n",
    "\n",
    "import sys\n",
    "\n",
    "current_key = None\n",
    "word_sum = 0\n",
    "\n",
    "for line in sys.stdin:\n",
    "    try:\n",
    "        key, count = line.strip().split('\\t', 1)\n",
    "        count = int(count)\n",
    "    except ValueError as e:\n",
    "        continue\n",
    "    if current_key != key:\n",
    "        if current_key:\n",
    "            print \"%s\\t%d\" % (current_key, word_sum)\n",
    "        word_sum = 0\n",
    "        current_key = key\n",
    "    word_sum += count\n",
    "\n",
    "if current_key:\n",
    "    print \"%s\\t%d\" % (current_key, word_sum)"
   ]
  },
  {
   "cell_type": "markdown",
   "metadata": {
    "colab_type": "text",
    "id": "KYZpcwY9EOw6"
   },
   "source": [
    "## Step 2. Create sort job.\n",
    "\n",
    "<b>Hint:</b> You may use MapReduce comparator to solve this step. Make sure that the keys are sorted in ascending order."
   ]
  },
  {
   "cell_type": "code",
   "execution_count": 4,
   "metadata": {
    "colab": {
     "autoexec": {
      "startup": false,
      "wait_interval": 0.0
     }
    },
    "colab_type": "code",
    "id": "g-NMzQ79EOw7"
   },
   "outputs": [
    {
     "name": "stdout",
     "output_type": "stream",
     "text": [
      "Overwriting mapper2.py\n"
     ]
    }
   ],
   "source": [
    "%%writefile mapper2.py\n",
    "\n",
    "import sys\n",
    "import re\n",
    "\n",
    "current_key = None\n",
    "word_sum = 0\n",
    "\n",
    "for line in sys.stdin:\n",
    "    try:\n",
    "        key, count = line.strip().split('\\t', 1)\n",
    "        count = int(count)\n",
    "    except ValueError as e:\n",
    "        continue\n",
    "    if current_key != key:\n",
    "        if current_key:\n",
    "            print \"%d\\t%s\" % (word_sum, current_key)\n",
    "        word_sum = 0\n",
    "        current_key = key\n",
    "    word_sum += count\n",
    "\n",
    "if current_key:\n",
    "    print \"%d\\t%s\" % (word_sum, current_key)"
   ]
  },
  {
   "cell_type": "code",
   "execution_count": 5,
   "metadata": {
    "colab": {
     "autoexec": {
      "startup": false,
      "wait_interval": 0.0
     }
    },
    "colab_type": "code",
    "id": "qs6SKs7wO4be"
   },
   "outputs": [
    {
     "name": "stdout",
     "output_type": "stream",
     "text": [
      "Overwriting reducer2.py\n"
     ]
    }
   ],
   "source": [
    "%%writefile reducer2.py\n",
    "\n",
    "import sys\n",
    "\n",
    "current_word = None\n",
    "word_sum = 0\n",
    "\n",
    "for line in sys.stdin:\n",
    "    try:\n",
    "        count, word = line.strip().split('\\t', 1)\n",
    "        count = int(count)\n",
    "    except ValueError as e:\n",
    "        continue\n",
    "    if current_word != word:\n",
    "        if current_word:\n",
    "            print \"%s\\t%d\" % (current_word, word_sum)\n",
    "        word_sum = 0\n",
    "        current_word = word\n",
    "    word_sum += count\n",
    "\n",
    "if current_word:\n",
    "    print \"%s\\t%d\" % (current_word, word_sum)"
   ]
  },
  {
   "cell_type": "markdown",
   "metadata": {
    "colab_type": "text",
    "id": "4OBE81GZEOw8"
   },
   "source": [
    "## Step 3. Bash commands\n",
    "\n",
    "<b> Hint: </b> For printing the exact row you may use basic UNIX commands. For instance, sed/head/tail/... (if you know other commands, you can use them).\n",
    "\n",
    "To run both jobs, you must use two consecutive yarn-commands. Remember that the input for the second job is the ouput for the first job."
   ]
  },
  {
   "cell_type": "code",
   "execution_count": 6,
   "metadata": {
    "colab": {
     "autoexec": {
      "startup": false,
      "wait_interval": 0.0
     }
    },
    "colab_type": "code",
    "id": "1q9NczdIEOw9"
   },
   "outputs": [
    {
     "name": "stdout",
     "output_type": "stream",
     "text": [
      "is\t126446\n"
     ]
    },
    {
     "name": "stderr",
     "output_type": "stream",
     "text": [
      "18/09/14 00:20:10 INFO client.RMProxy: Connecting to ResourceManager at /0.0.0.0:8032\n",
      "18/09/14 00:20:10 INFO client.RMProxy: Connecting to ResourceManager at /0.0.0.0:8032\n",
      "18/09/14 00:20:12 INFO mapred.FileInputFormat: Total input files to process : 1\n",
      "18/09/14 00:20:13 INFO mapreduce.JobSubmitter: number of splits:2\n",
      "18/09/14 00:20:13 INFO mapreduce.JobSubmitter: Submitting tokens for job: job_1536883627109_0003\n",
      "18/09/14 00:20:13 INFO impl.YarnClientImpl: Submitted application application_1536883627109_0003\n",
      "18/09/14 00:20:13 INFO mapreduce.Job: The url to track the job: http://ecc277e443bd:8088/proxy/application_1536883627109_0003/\n",
      "18/09/14 00:20:13 INFO mapreduce.Job: Running job: job_1536883627109_0003\n",
      "18/09/14 00:20:18 INFO mapreduce.Job: Job job_1536883627109_0003 running in uber mode : false\n",
      "18/09/14 00:20:18 INFO mapreduce.Job:  map 0% reduce 0%\n",
      "18/09/14 00:20:34 INFO mapreduce.Job:  map 31% reduce 0%\n",
      "18/09/14 00:20:40 INFO mapreduce.Job:  map 46% reduce 0%\n",
      "18/09/14 00:20:46 INFO mapreduce.Job:  map 47% reduce 0%\n",
      "18/09/14 00:20:52 INFO mapreduce.Job:  map 63% reduce 0%\n",
      "18/09/14 00:20:59 INFO mapreduce.Job:  map 67% reduce 0%\n",
      "18/09/14 00:21:00 INFO mapreduce.Job:  map 83% reduce 0%\n",
      "18/09/14 00:21:01 INFO mapreduce.Job:  map 100% reduce 0%\n",
      "18/09/14 00:21:07 INFO mapreduce.Job:  map 100% reduce 50%\n",
      "18/09/14 00:21:08 INFO mapreduce.Job:  map 100% reduce 100%\n",
      "18/09/14 00:21:09 INFO mapreduce.Job: Job job_1536883627109_0003 completed successfully\n",
      "18/09/14 00:21:09 INFO mapreduce.Job: Counters: 51\n",
      "\tFile System Counters\n",
      "\t\tFILE: Number of bytes read=16462759\n",
      "\t\tFILE: Number of bytes written=25241106\n",
      "\t\tFILE: Number of read operations=0\n",
      "\t\tFILE: Number of large read operations=0\n",
      "\t\tFILE: Number of write operations=0\n",
      "\t\tHDFS: Number of bytes read=76874501\n",
      "\t\tHDFS: Number of bytes written=4772221\n",
      "\t\tHDFS: Number of read operations=12\n",
      "\t\tHDFS: Number of large read operations=0\n",
      "\t\tHDFS: Number of write operations=4\n",
      "\tJob Counters \n",
      "\t\tKilled reduce tasks=1\n",
      "\t\tLaunched map tasks=2\n",
      "\t\tLaunched reduce tasks=2\n",
      "\t\tData-local map tasks=2\n",
      "\t\tTotal time spent by all maps in occupied slots (ms)=78368\n",
      "\t\tTotal time spent by all reduces in occupied slots (ms)=6766\n",
      "\t\tTotal time spent by all map tasks (ms)=78368\n",
      "\t\tTotal time spent by all reduce tasks (ms)=6766\n",
      "\t\tTotal vcore-milliseconds taken by all map tasks=78368\n",
      "\t\tTotal vcore-milliseconds taken by all reduce tasks=6766\n",
      "\t\tTotal megabyte-milliseconds taken by all map tasks=80248832\n",
      "\t\tTotal megabyte-milliseconds taken by all reduce tasks=6928384\n",
      "\tMap-Reduce Framework\n",
      "\t\tMap input records=4100\n",
      "\t\tMap output records=11914691\n",
      "\t\tMap output bytes=97088757\n",
      "\t\tMap output materialized bytes=8226872\n",
      "\t\tInput split bytes=228\n",
      "\t\tCombine input records=11914691\n",
      "\t\tCombine output records=606869\n",
      "\t\tReduce input groups=397413\n",
      "\t\tReduce shuffle bytes=8226872\n",
      "\t\tReduce input records=606869\n",
      "\t\tReduce output records=397413\n",
      "\t\tSpilled Records=1820607\n",
      "\t\tShuffled Maps =4\n",
      "\t\tFailed Shuffles=0\n",
      "\t\tMerged Map outputs=4\n",
      "\t\tGC time elapsed (ms)=649\n",
      "\t\tCPU time spent (ms)=128340\n",
      "\t\tPhysical memory (bytes) snapshot=1078403072\n",
      "\t\tVirtual memory (bytes) snapshot=8080318464\n",
      "\t\tTotal committed heap usage (bytes)=716701696\n",
      "\tShuffle Errors\n",
      "\t\tBAD_ID=0\n",
      "\t\tCONNECTION=0\n",
      "\t\tIO_ERROR=0\n",
      "\t\tWRONG_LENGTH=0\n",
      "\t\tWRONG_MAP=0\n",
      "\t\tWRONG_REDUCE=0\n",
      "\tWiki stats\n",
      "\t\tTotal words=11914691\n",
      "\tFile Input Format Counters \n",
      "\t\tBytes Read=76874273\n",
      "\tFile Output Format Counters \n",
      "\t\tBytes Written=4772221\n",
      "18/09/14 00:21:09 INFO streaming.StreamJob: Output directory: assignment1_1536884409030950\n",
      "18/09/14 00:21:10 INFO client.RMProxy: Connecting to ResourceManager at /0.0.0.0:8032\n",
      "18/09/14 00:21:11 INFO client.RMProxy: Connecting to ResourceManager at /0.0.0.0:8032\n",
      "18/09/14 00:21:12 INFO mapred.FileInputFormat: Total input files to process : 2\n",
      "18/09/14 00:21:12 INFO mapreduce.JobSubmitter: number of splits:2\n",
      "18/09/14 00:21:12 INFO mapreduce.JobSubmitter: Submitting tokens for job: job_1536883627109_0004\n",
      "18/09/14 00:21:13 INFO impl.YarnClientImpl: Submitted application application_1536883627109_0004\n",
      "18/09/14 00:21:13 INFO mapreduce.Job: The url to track the job: http://ecc277e443bd:8088/proxy/application_1536883627109_0004/\n",
      "18/09/14 00:21:13 INFO mapreduce.Job: Running job: job_1536883627109_0004\n",
      "18/09/14 00:21:21 INFO mapreduce.Job: Job job_1536883627109_0004 running in uber mode : false\n",
      "18/09/14 00:21:21 INFO mapreduce.Job:  map 0% reduce 0%\n",
      "18/09/14 00:21:26 INFO mapreduce.Job:  map 100% reduce 0%\n",
      "18/09/14 00:21:32 INFO mapreduce.Job:  map 100% reduce 100%\n",
      "18/09/14 00:21:33 INFO mapreduce.Job: Job job_1536883627109_0004 completed successfully\n",
      "18/09/14 00:21:33 INFO mapreduce.Job: Counters: 49\n",
      "\tFile System Counters\n",
      "\t\tFILE: Number of bytes read=5567061\n",
      "\t\tFILE: Number of bytes written=11553800\n",
      "\t\tFILE: Number of read operations=0\n",
      "\t\tFILE: Number of large read operations=0\n",
      "\t\tFILE: Number of write operations=0\n",
      "\t\tHDFS: Number of bytes read=4772471\n",
      "\t\tHDFS: Number of bytes written=4772221\n",
      "\t\tHDFS: Number of read operations=9\n",
      "\t\tHDFS: Number of large read operations=0\n",
      "\t\tHDFS: Number of write operations=2\n",
      "\tJob Counters \n",
      "\t\tLaunched map tasks=2\n",
      "\t\tLaunched reduce tasks=1\n",
      "\t\tData-local map tasks=2\n",
      "\t\tTotal time spent by all maps in occupied slots (ms)=5906\n",
      "\t\tTotal time spent by all reduces in occupied slots (ms)=3611\n",
      "\t\tTotal time spent by all map tasks (ms)=5906\n",
      "\t\tTotal time spent by all reduce tasks (ms)=3611\n",
      "\t\tTotal vcore-milliseconds taken by all map tasks=5906\n",
      "\t\tTotal vcore-milliseconds taken by all reduce tasks=3611\n",
      "\t\tTotal megabyte-milliseconds taken by all map tasks=6047744\n",
      "\t\tTotal megabyte-milliseconds taken by all reduce tasks=3697664\n",
      "\tMap-Reduce Framework\n",
      "\t\tMap input records=397413\n",
      "\t\tMap output records=397413\n",
      "\t\tMap output bytes=4772225\n",
      "\t\tMap output materialized bytes=5567067\n",
      "\t\tInput split bytes=250\n",
      "\t\tCombine input records=0\n",
      "\t\tCombine output records=0\n",
      "\t\tReduce input groups=2058\n",
      "\t\tReduce shuffle bytes=5567067\n",
      "\t\tReduce input records=397413\n",
      "\t\tReduce output records=397413\n",
      "\t\tSpilled Records=794826\n",
      "\t\tShuffled Maps =2\n",
      "\t\tFailed Shuffles=0\n",
      "\t\tMerged Map outputs=2\n",
      "\t\tGC time elapsed (ms)=170\n",
      "\t\tCPU time spent (ms)=7300\n",
      "\t\tPhysical memory (bytes) snapshot=802209792\n",
      "\t\tVirtual memory (bytes) snapshot=6044708864\n",
      "\t\tTotal committed heap usage (bytes)=548929536\n",
      "\tShuffle Errors\n",
      "\t\tBAD_ID=0\n",
      "\t\tCONNECTION=0\n",
      "\t\tIO_ERROR=0\n",
      "\t\tWRONG_LENGTH=0\n",
      "\t\tWRONG_MAP=0\n",
      "\t\tWRONG_REDUCE=0\n",
      "\tFile Input Format Counters \n",
      "\t\tBytes Read=4772221\n",
      "\tFile Output Format Counters \n",
      "\t\tBytes Written=4772221\n",
      "18/09/14 00:21:33 INFO streaming.StreamJob: Output directory: assignment1_b_1536884409032846\n",
      "cat: Unable to write to output stream.\n"
     ]
    }
   ],
   "source": [
    "%%bash\n",
    "\n",
    "OUT_DIR=\"assignment1_\"$(date +\"%s%6N\")\n",
    "OUT_DIR2=\"assignment1_b_\"$(date +\"%s%6N\")\n",
    "\n",
    "# Code for your first job\n",
    "yarn jar /opt/cloudera/parcels/CDH/lib/hadoop-mapreduce/hadoop-streaming.jar \\\n",
    "    -files mapper1.py,reducer1.py,combiner1.py \\\n",
    "    -mapper 'python mapper1.py' \\\n",
    "    -combiner 'python combiner1.py' \\\n",
    "    -reducer 'python reducer1.py' \\\n",
    "    -numReduceTasks 2 \\\n",
    "    -input /data/wiki/en_articles_part \\\n",
    "    -output ${OUT_DIR} > /dev/null\n",
    "\n",
    "# Code for your second job\n",
    "yarn jar /opt/cloudera/parcels/CDH/lib/hadoop-mapreduce/hadoop-streaming.jar \\\n",
    "    -D mapreduce.job.output.key.comparator.class=org.apache.hadoop.mapreduce.lib.partition.KeyFieldBasedComparator \\\n",
    "    -D mapreduce.partition.keycomparator.options=\"-k1,2nr\" \\\n",
    "    -files mapper2.py,reducer2.py \\\n",
    "    -mapper 'python mapper2.py' \\\n",
    "    -reducer 'python reducer2.py' \\\n",
    "    -numReduceTasks 1 \\\n",
    "    -input ${OUT_DIR} \\\n",
    "    -output ${OUT_DIR2} > /dev/null\n",
    "\n",
    "# Code for obtaining the results\n",
    "hdfs dfs -cat ${OUT_DIR2}/part-00000 | sed -n '7p;8q'\n",
    "hdfs dfs -rm -r -skipTrash ${OUT_DIR}* > /dev/null\n",
    "hdfs dfs -rm -r -skipTrash ${OUT_DIR2}* > /dev/null"
   ]
  }
 ],
 "metadata": {
  "colab": {
   "collapsed_sections": [],
   "default_view": {},
   "name": "701_to_students.ipynb",
   "provenance": [],
   "version": "0.3.2",
   "views": {}
  },
  "kernelspec": {
   "display_name": "Python 2",
   "language": "python",
   "name": "python2"
  },
  "language_info": {
   "codemirror_mode": {
    "name": "ipython",
    "version": 2
   },
   "file_extension": ".py",
   "mimetype": "text/x-python",
   "name": "python",
   "nbconvert_exporter": "python",
   "pygments_lexer": "ipython2",
   "version": "2.7.12"
  }
 },
 "nbformat": 4,
 "nbformat_minor": 1
}
