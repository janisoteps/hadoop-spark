{
 "cells": [
  {
   "cell_type": "code",
   "execution_count": 1,
   "metadata": {},
   "outputs": [
    {
     "name": "stdout",
     "output_type": "stream",
     "text": [
      "narodnaya_gazeta\t1\n",
      "narodnaya_volya\t3\n"
     ]
    }
   ],
   "source": [
    "import re\n",
    "from pyspark import SparkConf, SparkContext\n",
    "\n",
    "sc = SparkContext(conf=SparkConf().setAppName(\"MyApp\").setMaster(\"local\"))\n",
    "\n",
    "\n",
    "def parse_article(line):\n",
    "    try:\n",
    "        article_id, text = unicode(line.rstrip()).split('\\t', 1)\n",
    "        text = re.sub(\"^\\W+|\\W+$\", \"\", text, flags=re.UNICODE).lower()\n",
    "        words = re.split(\"\\W*\\s+\\W*\", text, flags=re.UNICODE)\n",
    "        return words\n",
    "    except ValueError as e:\n",
    "        return []\n",
    "\n",
    "\n",
    "def find_pairs(words):\n",
    "    for word in words:\n",
    "        # print(\"find pairs word: \" + str(word))\n",
    "        if word == \"narodnaya\":\n",
    "            pair = word + \"_\" + words[words.index(word) + 1]\n",
    "\n",
    "            return pair\n",
    "\n",
    "\n",
    "wiki = sc.textFile(\"/data/wiki/en_articles_part/articles-part\").map(parse_article)\n",
    "# wiki = sc.textFile(\"input1.txt\").map(parse_article)\n",
    "pairs = wiki.map(find_pairs)\n",
    "\n",
    "pairs = pairs.collect()\n",
    "\n",
    "pair_dict = {}\n",
    "pair_list = []\n",
    "for pair in pairs:\n",
    "    if pair is not None:\n",
    "        if pair in pair_list:\n",
    "            pair_dict[pair] += 1\n",
    "        else:\n",
    "            pair_list.append(pair)\n",
    "            pair_dict[pair] = 1\n",
    "\n",
    "pair_list = sorted(pair_list)\n",
    "for pair in pair_list:\n",
    "    # print(pair)\n",
    "    print(pair + \"\\t\" + str(pair_dict[pair]))\n"
   ]
  }
 ],
 "metadata": {
  "kernelspec": {
   "display_name": "Python 2",
   "language": "python",
   "name": "python2"
  },
  "language_info": {
   "codemirror_mode": {
    "name": "ipython",
    "version": 2
   },
   "file_extension": ".py",
   "mimetype": "text/x-python",
   "name": "python",
   "nbconvert_exporter": "python",
   "pygments_lexer": "ipython2",
   "version": "2.7.12"
  }
 },
 "nbformat": 4,
 "nbformat_minor": 2
}
