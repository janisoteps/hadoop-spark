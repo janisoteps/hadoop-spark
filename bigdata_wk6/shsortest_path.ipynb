{
 "cells": [
  {
   "cell_type": "code",
   "execution_count": null,
   "metadata": {},
   "outputs": [],
   "source": [
    "from pyspark import SparkConf, SparkContext\n",
    "import collections\n",
    "\n",
    "sc = SparkContext(conf=SparkConf().setAppName(\"TwitterPath\").setMaster(\"local\"))\n",
    "twitter_sample_path = \"/data/twitter/twitter_sample_small.txt\"\n",
    "\n",
    "\n",
    "def parse_edge(row):\n",
    "    user, follower = row.split(\"\\t\", 1)\n",
    "    return int(user), int(follower)\n",
    "\n",
    "\n",
    "def next_path(item):\n",
    "    path_so_far, next_vert = item[1][0], item[1][1]\n",
    "    return next_vert, (path_so_far, next_vert)\n",
    "\n",
    "\n",
    "def tuple2list(a):\n",
    "    return list((tuple2list(x) if isinstance(x, tuple) else x for x in a))\n",
    "\n",
    "\n",
    "def flatten(x):\n",
    "    if isinstance(x, collections.Iterable):\n",
    "        return [str(a) for i in x for a in flatten(i)]\n",
    "    else:\n",
    "        return [x]\n",
    "\n",
    "\n",
    "start_user = 12\n",
    "end_user = 34\n",
    "partition_count = 400\n",
    "edge_tuples = sc.textFile(twitter_sample_path).map(parse_edge)\n",
    "edge_tuples.cache()\n",
    "fwd_edge_tuples = edge_tuples.map(lambda edge: (edge[1], edge[0])).partitionBy(partition_count).persist()\n",
    "paths = sc.parallelize([(start_user, start_user)]).partitionBy(partition_count)\n",
    "\n",
    "while True:\n",
    "    new_paths = paths.join(fwd_edge_tuples, partition_count).map(next_path).persist()\n",
    "    complete_count = new_paths.filter(lambda path: path[0] == end_user).count()\n",
    "\n",
    "    if complete_count > 0:\n",
    "        final_path = new_paths.filter(lambda path: path[0] == end_user).collect()\n",
    "        print(','.join(flatten(tuple2list(final_path[0][1]))))\n",
    "        break\n",
    "    else:\n",
    "        paths = new_paths"
   ]
  }
 ],
 "metadata": {
  "kernelspec": {
   "display_name": "Python 2",
   "language": "python",
   "name": "python2"
  },
  "language_info": {
   "codemirror_mode": {
    "name": "ipython",
    "version": 2
   },
   "file_extension": ".py",
   "mimetype": "text/x-python",
   "name": "python",
   "nbconvert_exporter": "python",
   "pygments_lexer": "ipython2",
   "version": "2.7.12"
  }
 },
 "nbformat": 4,
 "nbformat_minor": 2
}
